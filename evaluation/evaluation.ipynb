{
 "cells": [
  {
   "cell_type": "code",
   "execution_count": 2,
   "id": "generous-buying",
   "metadata": {},
   "outputs": [],
   "source": [
    "import pandas as pd\n",
    "from datetime import datetime"
   ]
  },
  {
   "cell_type": "markdown",
   "id": "519bef45",
   "metadata": {},
   "source": [
    "Helper methods: "
   ]
  },
  {
   "cell_type": "code",
   "execution_count": 27,
   "id": "5847f592",
   "metadata": {},
   "outputs": [],
   "source": [
    "def select_time_frame(metrics_data_df: pd.DataFrame, from_time: datetime, to_time: datetime, freq15s=True):\n",
    "    try:\n",
    "        metrics_data_df.date = metrics_data_df.date.apply(lambda datetime_str: datetime.strptime(datetime_str, '%m/%d/%Y %I:%M:%S.000000000 %p'))\n",
    "    except:\n",
    "        pass\n",
    "    if freq15s:\n",
    "        return groupby_15s(metrics_data_df[(metrics_data_df.date > from_time) & (metrics_data_df.date < to_time)], metrics_data_df.columns[-1])\n",
    "    return metrics_data_df[(metrics_data_df.date > from_time) & (metrics_data_df.date < to_time)]\n",
    "\n",
    "\n",
    "def select_pod_proxy_application_metrics(metrics_data_df: pd.DataFrame, pods: bool, proxies: bool, applications: bool, deucalion_sidecars: bool):\n",
    "    if (pods or proxies or applications or deucalion_sidecars):\n",
    "        match_strings = []\n",
    "        if proxies: \n",
    "            match_strings.append('(k8s_istio-proxy)')\n",
    "        if pods:\n",
    "            match_strings.append('(k8s_POD)')\n",
    "        if applications:\n",
    "            match_strings.append('(k8s_(((?!(POD)|(istio)|(deucalion)).)))')\n",
    "        if deucalion_sidecars:\n",
    "            match_strings.append('(k8s_deucalion)')\n",
    "        match_string = '|'.join(match_strings)\n",
    "        return metrics_data_df[metrics_data_df.container_name.str.match(match_string)]\n",
    "    else:\n",
    "        raise Exception('no container types specified')\n",
    "\n",
    "def print_overhead_summary(dfs, metrics_str: str, index, columns, pods: bool, proxies: bool, applications: bool, deucalion_sidecars: bool):\n",
    "    data = []\n",
    "    for df in dfs:\n",
    "        data.append([select_pod_proxy_application_metrics(df, pods, proxies, applications, deucalion_sidecars)[metrics_str].sum() / ((df.date.iloc[-1] - df.date.iloc[0]).total_seconds()), select_pod_proxy_application_metrics(df, pods, proxies, applications, deucalion_sidecars)[metrics_str].std() / 15])\n",
    "    overhead_df = pd.DataFrame(data, index, columns)\n",
    "    overhead_df['pct_overhead_baseline'] = overhead_df[columns[0]].apply(lambda x: (x/overhead_df[columns[0]][[0]][0] - 1) * 100)\n",
    "    display(overhead_df)\n",
    "    return overhead_df\n",
    "\n",
    "def groupby_15s(df, metrics_name):\n",
    "    res = pd.DataFrame(columns=['container_name', 'date', metrics_name])\n",
    "    foo = df.groupby(['container_name', pd.Grouper(key='date', freq='15s')]).sum()\n",
    "    indexes = foo.index\n",
    "    for index in indexes:\n",
    "        res = pd.concat([res, pd.DataFrame([[index[0], index[1], foo[metrics_name][index]]], columns=['container_name', 'date', metrics_name])])\n",
    "        \n",
    "    return res.reset_index(drop=True)\n",
    "\n",
    "\n",
    "\n"
   ]
  },
  {
   "cell_type": "markdown",
   "id": "4cab0856",
   "metadata": {},
   "source": [
    "Read data: "
   ]
  },
  {
   "cell_type": "code",
   "execution_count": 4,
   "id": "d2a378d1",
   "metadata": {},
   "outputs": [],
   "source": [
    "# Without monitoring\n",
    "without_monitoring_tx_bytes = pd.read_csv('data/metrics_data/without_monitoring/pods_tx_bytes.csv')\n",
    "without_monitoring_rx_bytes = pd.read_csv('data/metrics_data/without_monitoring/details-pod-rx.csv')\n",
    "without_monitoring_cpu = pd.read_csv('data/metrics_data/without_monitoring/details-cpu.csv')\n",
    "without_monitoring_mem = pd.read_csv('data/metrics_data/without_monitoring/details-memory.csv')\n",
    "\n",
    "# With prometheus monitoring\n",
    "with_prometheus_monitoring_tx_bytes = pd.read_csv('data/metrics_data/standard_prometheus/pods_tx_bytes.csv')\n",
    "with_prometheus_monitoring_rx_bytes = pd.read_csv('data/metrics_data/standard_prometheus/details-pod-rx.csv')\n",
    "with_prometheus_monitoring_cpu = pd.read_csv('data/metrics_data/standard_prometheus/details-cpu.csv')\n",
    "with_prometheus_monitoring_mem = pd.read_csv('data/metrics_data/standard_prometheus/details-memory.csv')\n",
    "\n",
    "# Sidecar\n",
    "sidecar_tx_bytes = pd.read_csv('data/metrics_data/sidecar/pods_tx_bytes.csv')\n",
    "sidecar_rx_bytes = pd.read_csv('data/metrics_data/sidecar/details-pod-rx.csv')\n",
    "sidecar_cpu = pd.read_csv('data/metrics_data/sidecar/details-cpu.csv')\n",
    "sidecar_mem = pd.read_csv('data/metrics_data/sidecar/details-memory.csv')\n",
    "\n",
    "# Federated\n",
    "federated_tx_bytes = pd.read_csv('data/metrics_data/federated/pods_tx_bytes.csv')\n",
    "federated_rx_bytes = pd.read_csv('data/metrics_data/federated/details-pod-rx.csv')\n",
    "federated_tx_bytes_prometheus = pd.read_csv('data/metrics_data/federated/pods_tx_bytes_prometheus.csv')\n",
    "federated_rx_bytes_prometheus = pd.read_csv('data/metrics_data/federated/details-pod-rx_prometheus.csv')\n",
    "federated_cpu = pd.read_csv('data/metrics_data/federated/details-cpu.csv')\n",
    "federated_cpu_prometheus = pd.read_csv('data/metrics_data/federated/details-cpu_prometheus.csv')\n",
    "federated_mem = pd.read_csv('data/metrics_data/federated/details-memory.csv')\n",
    "federated_mem_prometheus = pd.read_csv('data/metrics_data/federated/details-memory_prometheus.csv')"
   ]
  },
  {
   "cell_type": "markdown",
   "id": "63da87ad",
   "metadata": {},
   "source": [
    "Select the right data on the based on timestamp: "
   ]
  },
  {
   "cell_type": "code",
   "execution_count": 5,
   "id": "31d160b9",
   "metadata": {},
   "outputs": [],
   "source": [
    "# Without monitoring\n",
    "at_rest_start = datetime(2022, 5, 11, 19, 00)\n",
    "at_rest_stop = datetime(2022, 5, 11, 20, 00)\n",
    "without_monitoring_tx_bytes_at_rest = select_time_frame(without_monitoring_tx_bytes, at_rest_start, at_rest_stop)\n",
    "without_monitoring_rx_bytes_at_rest = select_time_frame(without_monitoring_rx_bytes, at_rest_start, at_rest_stop)\n",
    "without_monitoring_cpu_at_rest = select_time_frame(without_monitoring_cpu, at_rest_start, at_rest_stop)\n",
    "without_monitoring_mem_at_rest = select_time_frame(without_monitoring_mem, at_rest_start, at_rest_stop)\n",
    "\n",
    "# With prometheus monitoring\n",
    "at_rest_start = datetime(2022, 5, 19, 18, 40)\n",
    "at_rest_stop = datetime(2022, 5, 19, 19, 55)\n",
    "with_prometheus_monitoring_tx_bytes_at_rest = select_time_frame(with_prometheus_monitoring_tx_bytes, at_rest_start, at_rest_stop)\n",
    "with_prometheus_monitoring_rx_bytes_at_rest = select_time_frame(with_prometheus_monitoring_rx_bytes, at_rest_start, at_rest_stop)\n",
    "with_prometheus_monitoring_cpu_at_rest = select_time_frame(with_prometheus_monitoring_cpu, at_rest_start, at_rest_stop)\n",
    "with_prometheus_monitoring_mem_at_rest = select_time_frame(with_prometheus_monitoring_mem, at_rest_start, at_rest_stop)\n",
    "\n",
    "# Sidecar\n",
    "at_rest_start = datetime(2022, 5, 15, 16, 00)\n",
    "at_rest_stop = datetime(2022, 5, 15, 19, 00)\n",
    "sidecar_tx_bytes_at_rest = select_time_frame(sidecar_tx_bytes, at_rest_start, at_rest_stop)\n",
    "sidecar_rx_bytes_at_rest = select_time_frame(sidecar_rx_bytes, at_rest_start, at_rest_stop)\n",
    "sidecar_cpu_at_rest = select_time_frame(sidecar_cpu, at_rest_start, at_rest_stop)\n",
    "sidecar_mem_at_rest = select_time_frame(sidecar_mem, at_rest_start, at_rest_stop)\n",
    "\n",
    "# Federated\n",
    "at_rest_start = datetime(2022, 5, 12, 22, 20)\n",
    "at_rest_stop = datetime(2022, 5, 12, 22, 55)\n",
    "federated_tx_bytes_at_rest = select_time_frame(federated_tx_bytes, at_rest_start, at_rest_stop)\n",
    "federated_rx_bytes_at_rest =  select_time_frame(federated_rx_bytes, at_rest_start, at_rest_stop)\n",
    "federated_tx_bytes_prometheus_at_rest =  select_time_frame(federated_tx_bytes_prometheus, at_rest_start, at_rest_stop)\n",
    "federated_rx_bytes_prometheus_at_rest =  select_time_frame(federated_rx_bytes_prometheus, at_rest_start, at_rest_stop)\n",
    "federated_cpu_at_rest =  select_time_frame(federated_cpu, at_rest_start, at_rest_stop)\n",
    "federated_cpu_prometheus_at_rest =  select_time_frame(federated_cpu_prometheus, at_rest_start, at_rest_stop)\n",
    "federated_mem_at_rest =  select_time_frame(federated_mem, at_rest_start, at_rest_stop)\n",
    "federated_mem_prometheus_at_rest =  select_time_frame(federated_mem_prometheus, at_rest_start, at_rest_stop)"
   ]
  },
  {
   "cell_type": "markdown",
   "id": "3c0323b8",
   "metadata": {},
   "source": [
    "Differentiate between sidecars, pods and application metrics: "
   ]
  },
  {
   "cell_type": "code",
   "execution_count": 6,
   "id": "9a589335",
   "metadata": {},
   "outputs": [],
   "source": [
    "# Without monitoring\n",
    "without_monitoring_cpu_at_rest_proxies = select_pod_proxy_application_metrics(without_monitoring_cpu_at_rest, False, True, False, False)\n",
    "without_monitoring_cpu_at_rest_apps = select_pod_proxy_application_metrics(without_monitoring_cpu_at_rest, False, False, True, False)\n",
    "\n",
    "without_monitoring_mem_at_rest_proxies = select_pod_proxy_application_metrics(without_monitoring_mem_at_rest, False, True, False, False)\n",
    "without_monitoring_mem_at_rest_apps = select_pod_proxy_application_metrics(without_monitoring_mem_at_rest, False, False, True, False)\n",
    "\n",
    "# With prometheus monitoring\n",
    "with_prometheus_monitoring_cpu_at_rest_proxies = select_pod_proxy_application_metrics(with_prometheus_monitoring_cpu_at_rest, False, True, False, False)\n",
    "with_prometheus_monitoring_cpu_at_rest_apps = select_pod_proxy_application_metrics(with_prometheus_monitoring_cpu_at_rest, False, False, True, False)\n",
    "\n",
    "with_prometheus_monitoring_mem_at_rest_proxies = select_pod_proxy_application_metrics(with_prometheus_monitoring_mem_at_rest, False, True, False, False)\n",
    "with_prometheus_monitoring_mem_at_rest_apps = select_pod_proxy_application_metrics(with_prometheus_monitoring_mem_at_rest, False, False, True, False)\n",
    "\n",
    "# Sidecar\n",
    "sidecar_cpu_at_rest_proxies = select_pod_proxy_application_metrics(sidecar_cpu_at_rest, False, True, False, False)\n",
    "sidecar_cpu_at_rest_apps = select_pod_proxy_application_metrics(sidecar_cpu_at_rest, False, False, True, False)\n",
    "sidecar_cpu_at_rest_deucalion_sidecars = select_pod_proxy_application_metrics(sidecar_cpu_at_rest, False, False, False, True)\n",
    "\n",
    "sidecar_mem_at_rest_proxies = select_pod_proxy_application_metrics(sidecar_mem_at_rest, False, True, False, False)\n",
    "sidecar_mem_at_rest_apps = select_pod_proxy_application_metrics(sidecar_mem_at_rest, False, False, True, False)\n",
    "sidecar_mem_at_rest_deucalion_sidecars = select_pod_proxy_application_metrics(sidecar_mem_at_rest, False, False, False, True)\n",
    "\n",
    "# Federated\n",
    "# TODO"
   ]
  },
  {
   "cell_type": "markdown",
   "id": "e3126b8d",
   "metadata": {},
   "source": [
    "### Results\n",
    "\n",
    "application statistics: "
   ]
  },
  {
   "cell_type": "code",
   "execution_count": 7,
   "id": "ee5dea57",
   "metadata": {},
   "outputs": [
    {
     "name": "stdout",
     "output_type": "stream",
     "text": [
      "without monitoring\n",
      "mean tx bytes per second:  2047.2897569444444 stdev:  1457.021569998837\n",
      "mean rx bytes per second:  2963.402719907407 stdev:  5632.136030464674\n",
      "mean cpu usage apps:  50823251.206132635 stdev:  77455158.35899147\n",
      "mean mem usage apps:  786010837.3333334 stdev:  622043483.153089\n",
      "with monitoring\n",
      "mean tx bytes per second:  139889.6775462963 stdev:  131256.0322821029\n",
      "mean rx bytes per second:  4161.856111111111 stdev:  7438.9092803601025\n",
      "mean cpu usage apps:  48184424.54897816 stdev:  75232583.46696366\n",
      "mean mem usage apps:  795271650.4177778 stdev:  632262766.6377176\n",
      "Sidecar\n",
      "mean tx bytes per second:  2273.2824652777776 stdev:  1696.8858355945833\n",
      "mean rx bytes per second:  3281.088105709877 stdev:  6595.388830483115\n",
      "mean cpu usage apps:  51607445.62797182 stdev:  74347582.53259423\n",
      "mean mem usage apps:  650731508.6222222 stdev:  505714745.7700148\n",
      "mean cpu usage deucalion:  7554911.896581057 stdev:  8574409.64920579\n",
      "mean mem usage deucalion:  220884068.5037037 stdev:  99363397.35385576\n"
     ]
    }
   ],
   "source": [
    "# Without monitoring\n",
    "print('without monitoring')\n",
    "print('mean tx bytes per second: ', without_monitoring_tx_bytes_at_rest['tx_bytes.mean_value'].mean(), 'stdev: ', without_monitoring_tx_bytes_at_rest['tx_bytes.mean_value'].std())\n",
    "print('mean rx bytes per second: ', without_monitoring_rx_bytes_at_rest['rx_bytes.mean_value'].mean(), 'stdev: ', without_monitoring_rx_bytes_at_rest['rx_bytes.mean_value'].std())\n",
    "print('mean cpu usage apps: ', without_monitoring_cpu_at_rest_apps['cpu_usage_total.mean_value'].mean(), 'stdev: ', without_monitoring_cpu_at_rest_apps['cpu_usage_total.mean_value'].std())\n",
    "print('mean mem usage apps: ', without_monitoring_mem_at_rest_apps['memory_usage.mean_value'].mean(), 'stdev: ', without_monitoring_mem_at_rest_apps['memory_usage.mean_value'].std())\n",
    "\n",
    "# With prometheus monitoring\n",
    "print('with monitoring')\n",
    "print('mean tx bytes per second: ', with_prometheus_monitoring_tx_bytes_at_rest['tx_bytes.mean_value'].mean(), 'stdev: ', with_prometheus_monitoring_tx_bytes_at_rest['tx_bytes.mean_value'].std())\n",
    "print('mean rx bytes per second: ', with_prometheus_monitoring_rx_bytes_at_rest['rx_bytes.mean_value'].mean(), 'stdev: ', with_prometheus_monitoring_rx_bytes_at_rest['rx_bytes.mean_value'].std())\n",
    "print('mean cpu usage apps: ', with_prometheus_monitoring_cpu_at_rest_apps['cpu_usage_total.mean_value'].mean(), 'stdev: ', with_prometheus_monitoring_cpu_at_rest_apps['cpu_usage_total.mean_value'].std())\n",
    "print('mean mem usage apps: ', with_prometheus_monitoring_mem_at_rest_apps['memory_usage.mean_value'].mean(), 'stdev: ', with_prometheus_monitoring_mem_at_rest_apps['memory_usage.mean_value'].std())\n",
    "\n",
    "# With deucalion sidecars\n",
    "print('Sidecar')\n",
    "print('mean tx bytes per second: ', sidecar_tx_bytes_at_rest['tx_bytes.mean_value'].mean(), 'stdev: ', sidecar_tx_bytes_at_rest['tx_bytes.mean_value'].std())\n",
    "print('mean rx bytes per second: ', sidecar_rx_bytes_at_rest['rx_bytes.mean_value'].mean(), 'stdev: ', sidecar_rx_bytes_at_rest['rx_bytes.mean_value'].std())\n",
    "print('mean cpu usage apps: ', sidecar_cpu_at_rest_apps['cpu_usage_total.mean_value'].mean(), 'stdev: ', sidecar_cpu_at_rest_apps['cpu_usage_total.mean_value'].std())\n",
    "print('mean mem usage apps: ', sidecar_mem_at_rest_apps['memory_usage.mean_value'].mean(), 'stdev: ', sidecar_mem_at_rest_apps['memory_usage.mean_value'].std())\n",
    "print('mean cpu usage deucalion: ', sidecar_cpu_at_rest_deucalion_sidecars['cpu_usage_total.mean_value'].mean(), 'stdev: ', sidecar_cpu_at_rest_deucalion_sidecars['cpu_usage_total.mean_value'].std())\n",
    "print('mean mem usage deucalion: ', sidecar_mem_at_rest_deucalion_sidecars['memory_usage.mean_value'].mean(), 'stdev: ', sidecar_mem_at_rest_deucalion_sidecars['memory_usage.mean_value'].std())\n",
    "\n"
   ]
  },
  {
   "cell_type": "markdown",
   "id": "78d52206",
   "metadata": {},
   "source": [
    "# Overhead at rest when using sidecar approach\n",
    "hier zijn de nodige resultaten voor in scriptie\n"
   ]
  },
  {
   "cell_type": "code",
   "execution_count": 8,
   "id": "be7f1b87",
   "metadata": {},
   "outputs": [
    {
     "data": {
      "text/html": [
       "<div>\n",
       "<style scoped>\n",
       "    .dataframe tbody tr th:only-of-type {\n",
       "        vertical-align: middle;\n",
       "    }\n",
       "\n",
       "    .dataframe tbody tr th {\n",
       "        vertical-align: top;\n",
       "    }\n",
       "\n",
       "    .dataframe thead th {\n",
       "        text-align: right;\n",
       "    }\n",
       "</style>\n",
       "<table border=\"1\" class=\"dataframe\">\n",
       "  <thead>\n",
       "    <tr style=\"text-align: right;\">\n",
       "      <th></th>\n",
       "      <th>tx_bytes_per_second_mean</th>\n",
       "      <th>tx_bytes_per_second_std</th>\n",
       "      <th>pct_overhead_baseline</th>\n",
       "    </tr>\n",
       "  </thead>\n",
       "  <tbody>\n",
       "    <tr>\n",
       "      <th>without</th>\n",
       "      <td>822.342329</td>\n",
       "      <td>97.134771</td>\n",
       "      <td>0.000000</td>\n",
       "    </tr>\n",
       "    <tr>\n",
       "      <th>with prometheus</th>\n",
       "      <td>56143.014400</td>\n",
       "      <td>8750.402152</td>\n",
       "      <td>6727.207163</td>\n",
       "    </tr>\n",
       "    <tr>\n",
       "      <th>deucalion sidecar</th>\n",
       "      <td>910.577677</td>\n",
       "      <td>113.125722</td>\n",
       "      <td>10.729759</td>\n",
       "    </tr>\n",
       "    <tr>\n",
       "      <th>deucalion federated</th>\n",
       "      <td>40709.332134</td>\n",
       "      <td>4647.604268</td>\n",
       "      <td>4850.411853</td>\n",
       "    </tr>\n",
       "  </tbody>\n",
       "</table>\n",
       "</div>"
      ],
      "text/plain": [
       "                     tx_bytes_per_second_mean  tx_bytes_per_second_std  \\\n",
       "without                            822.342329                97.134771   \n",
       "with prometheus                  56143.014400              8750.402152   \n",
       "deucalion sidecar                  910.577677               113.125722   \n",
       "deucalion federated              40709.332134              4647.604268   \n",
       "\n",
       "                     pct_overhead_baseline  \n",
       "without                           0.000000  \n",
       "with prometheus                6727.207163  \n",
       "deucalion sidecar                10.729759  \n",
       "deucalion federated            4850.411853  "
      ]
     },
     "metadata": {},
     "output_type": "display_data"
    }
   ],
   "source": [
    "# tx bytes\n",
    "print_overhead_summary([without_monitoring_tx_bytes_at_rest, with_prometheus_monitoring_tx_bytes_at_rest, sidecar_tx_bytes_at_rest, federated_tx_bytes_at_rest], 'tx_bytes.mean_value', ['without', 'with prometheus', 'deucalion sidecar', 'deucalion federated'], ['tx_bytes_per_second_mean', 'tx_bytes_per_second_std'], True, False, False, False)"
   ]
  },
  {
   "cell_type": "code",
   "execution_count": 86,
   "id": "8cdc2d10",
   "metadata": {},
   "outputs": [
    {
     "data": {
      "text/plain": [
       "822.3423291492329"
      ]
     },
     "execution_count": 86,
     "metadata": {},
     "output_type": "execute_result"
    }
   ],
   "source": [
    "overhead_df['tx_bytes_per_second_mean'].iloc[0]"
   ]
  },
  {
   "cell_type": "code",
   "execution_count": 135,
   "id": "ec9ed391",
   "metadata": {},
   "outputs": [
    {
     "data": {
      "text/html": [
       "<div>\n",
       "<style scoped>\n",
       "    .dataframe tbody tr th:only-of-type {\n",
       "        vertical-align: middle;\n",
       "    }\n",
       "\n",
       "    .dataframe tbody tr th {\n",
       "        vertical-align: top;\n",
       "    }\n",
       "\n",
       "    .dataframe thead th {\n",
       "        text-align: right;\n",
       "    }\n",
       "</style>\n",
       "<table border=\"1\" class=\"dataframe\">\n",
       "  <thead>\n",
       "    <tr style=\"text-align: right;\">\n",
       "      <th></th>\n",
       "      <th>tx_bytes_per_second_mean</th>\n",
       "      <th>tx_bytes_per_second_std</th>\n",
       "      <th>pct_overhead_baseline</th>\n",
       "    </tr>\n",
       "  </thead>\n",
       "  <tbody>\n",
       "    <tr>\n",
       "      <th>Without monitoring</th>\n",
       "      <td>822.342329</td>\n",
       "      <td>97.134771</td>\n",
       "      <td>0.000000</td>\n",
       "    </tr>\n",
       "    <tr>\n",
       "      <th>Prometheus</th>\n",
       "      <td>56143.014400</td>\n",
       "      <td>8750.402152</td>\n",
       "      <td>6727.207163</td>\n",
       "    </tr>\n",
       "    <tr>\n",
       "      <th>Sidecar architecture</th>\n",
       "      <td>910.577677</td>\n",
       "      <td>113.125722</td>\n",
       "      <td>10.729759</td>\n",
       "    </tr>\n",
       "    <tr>\n",
       "      <th>Federated architecture</th>\n",
       "      <td>40709.332134</td>\n",
       "      <td>4647.604268</td>\n",
       "      <td>4850.411853</td>\n",
       "    </tr>\n",
       "  </tbody>\n",
       "</table>\n",
       "</div>"
      ],
      "text/plain": [
       "                        tx_bytes_per_second_mean  tx_bytes_per_second_std  \\\n",
       "Without monitoring                    822.342329                97.134771   \n",
       "Prometheus                          56143.014400              8750.402152   \n",
       "Sidecar architecture                  910.577677               113.125722   \n",
       "Federated architecture              40709.332134              4647.604268   \n",
       "\n",
       "                        pct_overhead_baseline  \n",
       "Without monitoring                   0.000000  \n",
       "Prometheus                        6727.207163  \n",
       "Sidecar architecture                10.729759  \n",
       "Federated architecture            4850.411853  "
      ]
     },
     "metadata": {},
     "output_type": "display_data"
    },
    {
     "data": {
      "image/png": "[encoded data removed]",
      "text/plain": [
       "<Figure size 648x576 with 1 Axes>"
      ]
     },
     "metadata": {
      "needs_background": "light"
     },
     "output_type": "display_data"
    }
   ],
   "source": [
    "from matplotlib import pyplot as plt\n",
    "def barplot(df, mean_str, std_str, ylabel, spacing):   \n",
    "    fig, ax = plt.subplots(figsize=(9,8))\n",
    "    ax.bar(df.index, mean_str, yerr=std_str, alpha=0.5, data=df, capsize=10)\n",
    "    for index, row in pd.DataFrame(df[mean_str]).iterrows():\n",
    "        ax.text(index, row[mean_str] + spacing, round(row[mean_str]), )\n",
    "    plt.ylabel(ylabel)\n",
    "\n",
    "\n",
    "tx_overhead_df = print_overhead_summary([without_monitoring_tx_bytes_at_rest, with_prometheus_monitoring_tx_bytes_at_rest, sidecar_tx_bytes_at_rest, federated_tx_bytes_at_rest], 'tx_bytes.mean_value', ['Without monitoring', 'Prometheus', 'Sidecar architecture', 'Federated architecture'], ['tx_bytes_per_second_mean', 'tx_bytes_per_second_std'], True, False, False, False)\n",
    "barplot(tx_overhead_df, 'tx_bytes_per_second_mean', 'tx_bytes_per_second_std', 'Bytes per second', 700)"
   ]
  },
  {
   "cell_type": "code",
   "execution_count": 207,
   "id": "0fc8d624",
   "metadata": {},
   "outputs": [
    {
     "data": {
      "text/html": [
       "<div>\n",
       "<style scoped>\n",
       "    .dataframe tbody tr th:only-of-type {\n",
       "        vertical-align: middle;\n",
       "    }\n",
       "\n",
       "    .dataframe tbody tr th {\n",
       "        vertical-align: top;\n",
       "    }\n",
       "\n",
       "    .dataframe thead th {\n",
       "        text-align: right;\n",
       "    }\n",
       "</style>\n",
       "<table border=\"1\" class=\"dataframe\">\n",
       "  <thead>\n",
       "    <tr style=\"text-align: right;\">\n",
       "      <th></th>\n",
       "      <th>rx_bytes_per_second_mean</th>\n",
       "      <th>rx_bytes_per_second_std</th>\n",
       "      <th>pct_overhead_baseline</th>\n",
       "    </tr>\n",
       "  </thead>\n",
       "  <tbody>\n",
       "    <tr>\n",
       "      <th>Without monitoring</th>\n",
       "      <td>1190.320758</td>\n",
       "      <td>375.475735</td>\n",
       "      <td>0.000000</td>\n",
       "    </tr>\n",
       "    <tr>\n",
       "      <th>Prometheus</th>\n",
       "      <td>1670.310145</td>\n",
       "      <td>495.927285</td>\n",
       "      <td>40.324373</td>\n",
       "    </tr>\n",
       "    <tr>\n",
       "      <th>Sidecar architecture</th>\n",
       "      <td>1314.260604</td>\n",
       "      <td>439.692589</td>\n",
       "      <td>10.412307</td>\n",
       "    </tr>\n",
       "    <tr>\n",
       "      <th>Federated architecture</th>\n",
       "      <td>1530.256555</td>\n",
       "      <td>291.351834</td>\n",
       "      <td>28.558336</td>\n",
       "    </tr>\n",
       "  </tbody>\n",
       "</table>\n",
       "</div>"
      ],
      "text/plain": [
       "                        rx_bytes_per_second_mean  rx_bytes_per_second_std  \\\n",
       "Without monitoring                   1190.320758               375.475735   \n",
       "Prometheus                           1670.310145               495.927285   \n",
       "Sidecar architecture                 1314.260604               439.692589   \n",
       "Federated architecture               1530.256555               291.351834   \n",
       "\n",
       "                        pct_overhead_baseline  \n",
       "Without monitoring                   0.000000  \n",
       "Prometheus                          40.324373  \n",
       "Sidecar architecture                10.412307  \n",
       "Federated architecture              28.558336  "
      ]
     },
     "metadata": {},
     "output_type": "display_data"
    },
    {
     "data": {
      "image/png": "[encoded data removed]",
      "text/plain": [
       "<Figure size 648x576 with 1 Axes>"
      ]
     },
     "metadata": {
      "needs_background": "light"
     },
     "output_type": "display_data"
    }
   ],
   "source": [
    "# rx bytes\n",
    "rx_overhead_df = print_overhead_summary([without_monitoring_rx_bytes_at_rest, with_prometheus_monitoring_rx_bytes_at_rest, sidecar_rx_bytes_at_rest, federated_rx_bytes_at_rest], 'rx_bytes.mean_value', ['Without monitoring', 'Prometheus', 'Sidecar architecture', 'Federated architecture'], ['rx_bytes_per_second_mean', 'rx_bytes_per_second_std'], True, False, False, False)\n",
    "barplot(rx_overhead_df, 'rx_bytes_per_second_mean', 'rx_bytes_per_second_std', 'Bytes per second', 20)"
   ]
  },
  {
   "cell_type": "code",
   "execution_count": 209,
   "id": "c3f91a3a",
   "metadata": {},
   "outputs": [
    {
     "data": {
      "text/html": [
       "<div>\n",
       "<style scoped>\n",
       "    .dataframe tbody tr th:only-of-type {\n",
       "        vertical-align: middle;\n",
       "    }\n",
       "\n",
       "    .dataframe tbody tr th {\n",
       "        vertical-align: top;\n",
       "    }\n",
       "\n",
       "    .dataframe thead th {\n",
       "        text-align: right;\n",
       "    }\n",
       "</style>\n",
       "<table border=\"1\" class=\"dataframe\">\n",
       "  <thead>\n",
       "    <tr style=\"text-align: right;\">\n",
       "      <th></th>\n",
       "      <th>cpu_nanoseconds_per_second_mean</th>\n",
       "      <th>cpu_nanoseconds_per_second_std</th>\n",
       "      <th>pct_overhead_baseline</th>\n",
       "    </tr>\n",
       "  </thead>\n",
       "  <tbody>\n",
       "    <tr>\n",
       "      <th>Without monitoring</th>\n",
       "      <td>2.181890e+07</td>\n",
       "      <td>4.670705e+05</td>\n",
       "      <td>0.000000</td>\n",
       "    </tr>\n",
       "    <tr>\n",
       "      <th>Prometheus</th>\n",
       "      <td>2.420394e+07</td>\n",
       "      <td>1.210895e+06</td>\n",
       "      <td>10.931084</td>\n",
       "    </tr>\n",
       "    <tr>\n",
       "      <th>Sidecar architecture</th>\n",
       "      <td>2.180968e+07</td>\n",
       "      <td>9.501859e+05</td>\n",
       "      <td>-0.042237</td>\n",
       "    </tr>\n",
       "    <tr>\n",
       "      <th>Federated architecture</th>\n",
       "      <td>2.376646e+07</td>\n",
       "      <td>9.713155e+05</td>\n",
       "      <td>8.926020</td>\n",
       "    </tr>\n",
       "  </tbody>\n",
       "</table>\n",
       "</div>"
      ],
      "text/plain": [
       "                        cpu_nanoseconds_per_second_mean  \\\n",
       "Without monitoring                         2.181890e+07   \n",
       "Prometheus                                 2.420394e+07   \n",
       "Sidecar architecture                       2.180968e+07   \n",
       "Federated architecture                     2.376646e+07   \n",
       "\n",
       "                        cpu_nanoseconds_per_second_std  pct_overhead_baseline  \n",
       "Without monitoring                        4.670705e+05               0.000000  \n",
       "Prometheus                                1.210895e+06              10.931084  \n",
       "Sidecar architecture                      9.501859e+05              -0.042237  \n",
       "Federated architecture                    9.713155e+05               8.926020  "
      ]
     },
     "metadata": {},
     "output_type": "display_data"
    },
    {
     "data": {
      "image/png": "[encoded data removed]",
      "text/plain": [
       "<Figure size 648x576 with 1 Axes>"
      ]
     },
     "metadata": {
      "needs_background": "light"
     },
     "output_type": "display_data"
    }
   ],
   "source": [
    "# cpu on proxy containers (should not increase)\n",
    "proxy_cpu_overhead_df  = print_overhead_summary([without_monitoring_cpu_at_rest, with_prometheus_monitoring_cpu_at_rest, sidecar_cpu_at_rest, federated_cpu_at_rest], 'cpu_usage_total.mean_value', ['Without monitoring', 'Prometheus', 'Sidecar architecture', 'Federated architecture'], ['cpu_nanoseconds_per_second_mean', 'cpu_nanoseconds_per_second_std'], False, True, False, False)\n",
    "\n",
    "barplot(proxy_cpu_overhead_df, 'cpu_nanoseconds_per_second_mean', 'cpu_nanoseconds_per_second_std', 'CPU nanoseconds', -200000)"
   ]
  },
  {
   "cell_type": "code",
   "execution_count": 211,
   "id": "7a5befbf",
   "metadata": {},
   "outputs": [
    {
     "data": {
      "text/html": [
       "<div>\n",
       "<style scoped>\n",
       "    .dataframe tbody tr th:only-of-type {\n",
       "        vertical-align: middle;\n",
       "    }\n",
       "\n",
       "    .dataframe tbody tr th {\n",
       "        vertical-align: top;\n",
       "    }\n",
       "\n",
       "    .dataframe thead th {\n",
       "        text-align: right;\n",
       "    }\n",
       "</style>\n",
       "<table border=\"1\" class=\"dataframe\">\n",
       "  <thead>\n",
       "    <tr style=\"text-align: right;\">\n",
       "      <th></th>\n",
       "      <th>cpu_nanoseconds_per_second_mean</th>\n",
       "      <th>cpu_nanoseconds_per_second_std</th>\n",
       "      <th>pct_overhead_baseline</th>\n",
       "    </tr>\n",
       "  </thead>\n",
       "  <tbody>\n",
       "    <tr>\n",
       "      <th>Deucalion sidecar</th>\n",
       "      <td>3.025467e+06</td>\n",
       "      <td>571627.309947</td>\n",
       "      <td>0.00000</td>\n",
       "    </tr>\n",
       "    <tr>\n",
       "      <th>Envoy proxy</th>\n",
       "      <td>2.181890e+07</td>\n",
       "      <td>467070.491895</td>\n",
       "      <td>621.17455</td>\n",
       "    </tr>\n",
       "  </tbody>\n",
       "</table>\n",
       "</div>"
      ],
      "text/plain": [
       "                   cpu_nanoseconds_per_second_mean  \\\n",
       "Deucalion sidecar                     3.025467e+06   \n",
       "Envoy proxy                           2.181890e+07   \n",
       "\n",
       "                   cpu_nanoseconds_per_second_std  pct_overhead_baseline  \n",
       "Deucalion sidecar                   571627.309947                0.00000  \n",
       "Envoy proxy                         467070.491895              621.17455  "
      ]
     },
     "metadata": {},
     "output_type": "display_data"
    },
    {
     "data": {
      "image/png": "[encoded data removed]",
      "text/plain": [
       "<Figure size 648x576 with 1 Axes>"
      ]
     },
     "metadata": {
      "needs_background": "light"
     },
     "output_type": "display_data"
    }
   ],
   "source": [
    "# CPU usage of the proxy alone to compare it to deucalion sidecars overhead\n",
    "sidecar_overhead_df = print_overhead_summary([sidecar_cpu_at_rest_deucalion_sidecars, without_monitoring_cpu_at_rest_proxies], 'cpu_usage_total.mean_value', ['Deucalion sidecar', 'Envoy proxy'], ['cpu_nanoseconds_per_second_mean', 'cpu_nanoseconds_per_second_std'], False, True, False, True)\n",
    "barplot(sidecar_overhead_df, 'cpu_nanoseconds_per_second_mean', 'cpu_nanoseconds_per_second_std', 'CPU nanoseconds', 0)\n"
   ]
  },
  {
   "cell_type": "code",
   "execution_count": 245,
   "id": "da52eb4f",
   "metadata": {},
   "outputs": [
    {
     "data": {
      "text/html": [
       "<div>\n",
       "<style scoped>\n",
       "    .dataframe tbody tr th:only-of-type {\n",
       "        vertical-align: middle;\n",
       "    }\n",
       "\n",
       "    .dataframe tbody tr th {\n",
       "        vertical-align: top;\n",
       "    }\n",
       "\n",
       "    .dataframe thead th {\n",
       "        text-align: right;\n",
       "    }\n",
       "</style>\n",
       "<table border=\"1\" class=\"dataframe\">\n",
       "  <thead>\n",
       "    <tr style=\"text-align: right;\">\n",
       "      <th></th>\n",
       "      <th>cpu_nanoseconds_per_second_mean</th>\n",
       "      <th>cpu_nanoseconds_per_second_std</th>\n",
       "      <th>pct_overhead_baseline</th>\n",
       "    </tr>\n",
       "  </thead>\n",
       "  <tbody>\n",
       "    <tr>\n",
       "      <th>Deucalion sidecar</th>\n",
       "      <td>3.025467e+06</td>\n",
       "      <td>5.716273e+05</td>\n",
       "      <td>0.000000</td>\n",
       "    </tr>\n",
       "    <tr>\n",
       "      <th>Envoy proxy</th>\n",
       "      <td>2.181890e+07</td>\n",
       "      <td>4.670705e+05</td>\n",
       "      <td>621.174550</td>\n",
       "    </tr>\n",
       "    <tr>\n",
       "      <th>applications</th>\n",
       "      <td>1.651937e+07</td>\n",
       "      <td>5.163677e+06</td>\n",
       "      <td>446.010678</td>\n",
       "    </tr>\n",
       "  </tbody>\n",
       "</table>\n",
       "</div>"
      ],
      "text/plain": [
       "                   cpu_nanoseconds_per_second_mean  \\\n",
       "Deucalion sidecar                     3.025467e+06   \n",
       "Envoy proxy                           2.181890e+07   \n",
       "applications                          1.651937e+07   \n",
       "\n",
       "                   cpu_nanoseconds_per_second_std  pct_overhead_baseline  \n",
       "Deucalion sidecar                    5.716273e+05               0.000000  \n",
       "Envoy proxy                          4.670705e+05             621.174550  \n",
       "applications                         5.163677e+06             446.010678  "
      ]
     },
     "metadata": {},
     "output_type": "display_data"
    },
    {
     "data": {
      "image/png": "[encoded data removed]",
      "text/plain": [
       "<Figure size 648x576 with 1 Axes>"
      ]
     },
     "metadata": {
      "needs_background": "light"
     },
     "output_type": "display_data"
    }
   ],
   "source": [
    "sidecar_overhead_df = print_overhead_summary([sidecar_cpu_at_rest_deucalion_sidecars, without_monitoring_cpu_at_rest_proxies, without_monitoring_cpu_at_rest_apps], 'cpu_usage_total.mean_value', ['Deucalion sidecar', 'Envoy proxy', 'applications'], ['cpu_nanoseconds_per_second_mean', 'cpu_nanoseconds_per_second_std'], False, True, True, True)\n",
    "barplot(sidecar_overhead_df, 'cpu_nanoseconds_per_second_mean', 'cpu_nanoseconds_per_second_std', 'CPU nanoseconds', 0)\n"
   ]
  },
  {
   "cell_type": "markdown",
   "id": "ed3804f5",
   "metadata": {},
   "source": [
    "# CPU overhead only sidecars\n",
    "print_overhead_summary([without_monitoring_cpu_at_rest, with_prometheus_monitoring_cpu_at_rest, sidecar_cpu_at_rest], 'cpu_usage_total.mean_value', ['without', 'with prometheus', 'deucalion sidecar'], ['cpu_nanoseconds_per_second_mean', 'cpu_nanoseconds_per_second_std'], False, False, False, True)"
   ]
  },
  {
   "cell_type": "code",
   "execution_count": 12,
   "id": "0a68041c",
   "metadata": {},
   "outputs": [
    {
     "data": {
      "text/html": [
       "<div>\n",
       "<style scoped>\n",
       "    .dataframe tbody tr th:only-of-type {\n",
       "        vertical-align: middle;\n",
       "    }\n",
       "\n",
       "    .dataframe tbody tr th {\n",
       "        vertical-align: top;\n",
       "    }\n",
       "\n",
       "    .dataframe thead th {\n",
       "        text-align: right;\n",
       "    }\n",
       "</style>\n",
       "<table border=\"1\" class=\"dataframe\">\n",
       "  <thead>\n",
       "    <tr style=\"text-align: right;\">\n",
       "      <th></th>\n",
       "      <th>cpu_usage_mean</th>\n",
       "      <th>cpu_usage_std</th>\n",
       "      <th>pct_overhead_baseline</th>\n",
       "    </tr>\n",
       "  </thead>\n",
       "  <tbody>\n",
       "    <tr>\n",
       "      <th>prometheus server</th>\n",
       "      <td>8.038641e+06</td>\n",
       "      <td>1.686181e+06</td>\n",
       "      <td>0.0000</td>\n",
       "    </tr>\n",
       "    <tr>\n",
       "      <th>with deucalion sidecar</th>\n",
       "      <td>1.049463e+07</td>\n",
       "      <td>1.871442e+06</td>\n",
       "      <td>30.5523</td>\n",
       "    </tr>\n",
       "  </tbody>\n",
       "</table>\n",
       "</div>"
      ],
      "text/plain": [
       "                        cpu_usage_mean  cpu_usage_std  pct_overhead_baseline\n",
       "prometheus server         8.038641e+06   1.686181e+06                 0.0000\n",
       "with deucalion sidecar    1.049463e+07   1.871442e+06                30.5523"
      ]
     },
     "metadata": {},
     "output_type": "display_data"
    }
   ],
   "source": [
    "# federated cpu overhead \n",
    "federated_cpu_prometheus_at_rest = federated_cpu_prometheus_at_rest[federated_cpu_prometheus_at_rest.container_name.str.match('(k8s_deucalion)|(k8s_prometheus-server_)')]\n",
    "print_overhead_summary([select_pod_proxy_application_metrics(federated_cpu_prometheus_at_rest, False, False, True, False), select_pod_proxy_application_metrics(federated_cpu_prometheus_at_rest, False, False, True, True)], 'cpu_usage_total.mean_value', ['prometheus server', 'with deucalion sidecar'], ['cpu_usage_mean', 'cpu_usage_std'], False, True, True, True)"
   ]
  },
  {
   "cell_type": "code",
   "execution_count": 140,
   "id": "fe07653b",
   "metadata": {},
   "outputs": [
    {
     "name": "stdout",
     "output_type": "stream",
     "text": [
      "mean memory usage for deucalion sidecars memory_usage.mean_value    7.055307e+07\n",
      "dtype: float64\n",
      "mean memory usage for proxies memory_usage.mean_value    5.140233e+07\n",
      "dtype: float64\n"
     ]
    },
    {
     "name": "stderr",
     "output_type": "stream",
     "text": [
      "<ipython-input-140-95dfab501cae>:22: FutureWarning: DataFrame.mean and DataFrame.median with numeric_only=None will include datetime64 and datetime64tz columns in a future version.\n",
      "  print('mean memory usage for deucalion sidecars', select_pod_proxy_application_metrics(sidecar_memory_at_rest_between, False, False, False, True).mean())\n",
      "<ipython-input-140-95dfab501cae>:23: FutureWarning: DataFrame.mean and DataFrame.median with numeric_only=None will include datetime64 and datetime64tz columns in a future version.\n",
      "  print('mean memory usage for proxies', select_pod_proxy_application_metrics(sidecar_memory_at_rest_between, False, True, False, False).mean())\n"
     ]
    }
   ],
   "source": [
    "# memory\n",
    "def groupby_15s_mean(df, metrics_name):\n",
    "    res = pd.DataFrame(columns=['container_name', 'date', metrics_name])\n",
    "    foo = df.groupby(['container_name', pd.Grouper(key='date', freq='15s')]).mean()\n",
    "    indexes = foo.index\n",
    "    for index in indexes:\n",
    "        res = pd.concat([res, pd.DataFrame([[index[0], index[1], foo[metrics_name][index]]], columns=['container_name', 'date', metrics_name])])\n",
    "        \n",
    "    return res.reset_index(drop=True)\n",
    "\n",
    "def select_time_frame_mean(metrics_data_df: pd.DataFrame, from_time: datetime, to_time: datetime, freq15s=True):\n",
    "    try:\n",
    "        metrics_data_df.date = metrics_data_df.date.apply(lambda datetime_str: datetime.strptime(datetime_str, '%m/%d/%Y %I:%M:%S.000000000 %p'))\n",
    "    except:\n",
    "        pass\n",
    "    if freq15s:\n",
    "        return groupby_15s_mean(metrics_data_df[(metrics_data_df.date > from_time) & (metrics_data_df.date < to_time)], metrics_data_df.columns[-1])\n",
    "    return metrics_data_df[(metrics_data_df.date > from_time) & (metrics_data_df.date < to_time)]\n",
    "\n",
    "\n",
    "sidecar_memory_at_rest_between = select_time_frame_mean(sidecar_mem, datetime(2022, 5, 15, 20, 20), datetime(2022, 5, 15, 21, 30))\n",
    "print('mean memory usage for deucalion sidecars', select_pod_proxy_application_metrics(sidecar_memory_at_rest_between, False, False, False, True).mean())\n",
    "print('mean memory usage for proxies', select_pod_proxy_application_metrics(sidecar_memory_at_rest_between, False, True, False, False).mean())\n"
   ]
  },
  {
   "cell_type": "code",
   "execution_count": 142,
   "id": "31b31728",
   "metadata": {},
   "outputs": [
    {
     "name": "stdout",
     "output_type": "stream",
     "text": [
      "mean memory usage for deucalion sidecars 70553074.42338385\n",
      "std memory usage for deucalion sidecars 6858055.224012795\n",
      "mean memory usage for proxies 51402333.63824916\n",
      "mean memory usage for proxies 1913828.2150184368\n",
      "mean memory usage for applications 106081316.61575757\n",
      "mean memory usage for applications 51652058.94538798\n",
      "memory_usage.mean_value    7.055307e+07\n",
      "dtype: float64\n",
      "date                       0 days 00:20:12.788835690\n",
      "memory_usage.mean_value               6858055.224013\n",
      "dtype: object\n"
     ]
    },
    {
     "name": "stderr",
     "output_type": "stream",
     "text": [
      "<ipython-input-142-3301ee43b579>:9: FutureWarning: DataFrame.mean and DataFrame.median with numeric_only=None will include datetime64 and datetime64tz columns in a future version.\n",
      "  print(select_pod_proxy_application_metrics(sidecar_memory_at_rest_between, False, False, False, True).mean())\n"
     ]
    }
   ],
   "source": [
    "print('mean memory usage for deucalion sidecars', select_pod_proxy_application_metrics(sidecar_memory_at_rest_between, False, False, False, True)['memory_usage.mean_value'].mean())\n",
    "print('std memory usage for deucalion sidecars', select_pod_proxy_application_metrics(sidecar_memory_at_rest_between, False, False, False, True)['memory_usage.mean_value'].std())\n",
    "print('mean memory usage for proxies', select_pod_proxy_application_metrics(sidecar_memory_at_rest_between, False, True, False, False)['memory_usage.mean_value'].mean())\n",
    "print('mean memory usage for proxies', select_pod_proxy_application_metrics(sidecar_memory_at_rest_between, False, True, False, False)['memory_usage.mean_value'].std())\n",
    "print('mean memory usage for applications', select_pod_proxy_application_metrics(sidecar_memory_at_rest_between, False, False, True, False)['memory_usage.mean_value'].mean())\n",
    "print('mean memory usage for applications', select_pod_proxy_application_metrics(sidecar_memory_at_rest_between, False, False, True, False)['memory_usage.mean_value'].std())\n"
   ]
  },
  {
   "cell_type": "code",
   "execution_count": 144,
   "id": "07471eeb",
   "metadata": {},
   "outputs": [
    {
     "data": {
      "text/html": [
       "<div>\n",
       "<style scoped>\n",
       "    .dataframe tbody tr th:only-of-type {\n",
       "        vertical-align: middle;\n",
       "    }\n",
       "\n",
       "    .dataframe tbody tr th {\n",
       "        vertical-align: top;\n",
       "    }\n",
       "\n",
       "    .dataframe thead tr th {\n",
       "        text-align: left;\n",
       "    }\n",
       "\n",
       "    .dataframe thead tr:last-of-type th {\n",
       "        text-align: right;\n",
       "    }\n",
       "</style>\n",
       "<table border=\"1\" class=\"dataframe\">\n",
       "  <thead>\n",
       "    <tr>\n",
       "      <th></th>\n",
       "      <th colspan=\"8\" halign=\"left\">memory_usage.mean_value</th>\n",
       "    </tr>\n",
       "    <tr>\n",
       "      <th></th>\n",
       "      <th>count</th>\n",
       "      <th>mean</th>\n",
       "      <th>std</th>\n",
       "      <th>min</th>\n",
       "      <th>25%</th>\n",
       "      <th>50%</th>\n",
       "      <th>75%</th>\n",
       "      <th>max</th>\n",
       "    </tr>\n",
       "    <tr>\n",
       "      <th>container_name</th>\n",
       "      <th></th>\n",
       "      <th></th>\n",
       "      <th></th>\n",
       "      <th></th>\n",
       "      <th></th>\n",
       "      <th></th>\n",
       "      <th></th>\n",
       "      <th></th>\n",
       "    </tr>\n",
       "  </thead>\n",
       "  <tbody>\n",
       "    <tr>\n",
       "      <th>k8s_details_details-v1-994cb687f-p5wrv_sidecar_b21480dc-40fa-4156-82f8-6b6a2c765548_0</th>\n",
       "      <td>101.0</td>\n",
       "      <td>1.960755e+07</td>\n",
       "      <td>0.000000</td>\n",
       "      <td>19607552.0</td>\n",
       "      <td>19607552.0</td>\n",
       "      <td>19607552.0</td>\n",
       "      <td>19607552.0</td>\n",
       "      <td>1.960755e+07</td>\n",
       "    </tr>\n",
       "    <tr>\n",
       "      <th>k8s_productpage_productpage-v1-6c575bc5f7-n9mzs_sidecar_544989b0-a0ad-4d33-93a4-fa46c83f291a_0</th>\n",
       "      <td>280.0</td>\n",
       "      <td>5.944115e+07</td>\n",
       "      <td>0.000000</td>\n",
       "      <td>59441152.0</td>\n",
       "      <td>59441152.0</td>\n",
       "      <td>59441152.0</td>\n",
       "      <td>59441152.0</td>\n",
       "      <td>5.944115e+07</td>\n",
       "    </tr>\n",
       "    <tr>\n",
       "      <th>k8s_ratings_ratings-v1-7669f78ff5-8bq5g_sidecar_fce41f09-8bb9-4ab1-b598-5a2c994d704f_0</th>\n",
       "      <td>99.0</td>\n",
       "      <td>1.018266e+07</td>\n",
       "      <td>0.000000</td>\n",
       "      <td>10182656.0</td>\n",
       "      <td>10182656.0</td>\n",
       "      <td>10182656.0</td>\n",
       "      <td>10182656.0</td>\n",
       "      <td>1.018266e+07</td>\n",
       "    </tr>\n",
       "    <tr>\n",
       "      <th>k8s_reviews_reviews-v1-d9c7bcb7f-vhh6s_sidecar_c0822632-1f97-46a9-abc6-5a17ee15eff3_0</th>\n",
       "      <td>280.0</td>\n",
       "      <td>1.299538e+08</td>\n",
       "      <td>0.000000</td>\n",
       "      <td>129953792.0</td>\n",
       "      <td>129953792.0</td>\n",
       "      <td>129953792.0</td>\n",
       "      <td>129953792.0</td>\n",
       "      <td>1.299538e+08</td>\n",
       "    </tr>\n",
       "    <tr>\n",
       "      <th>k8s_reviews_reviews-v2-7848469667-w6kxk_sidecar_20b44007-2e36-489d-8e7a-9ee0a1233a7f_0</th>\n",
       "      <td>280.0</td>\n",
       "      <td>1.474249e+08</td>\n",
       "      <td>33528.705483</td>\n",
       "      <td>147402752.0</td>\n",
       "      <td>147402752.0</td>\n",
       "      <td>147431424.0</td>\n",
       "      <td>147431424.0</td>\n",
       "      <td>1.478833e+08</td>\n",
       "    </tr>\n",
       "    <tr>\n",
       "      <th>k8s_reviews_reviews-v3-5b4bcdbdff-2j22g_sidecar_62207178-81b4-4844-a02d-f819ea9b22b9_0</th>\n",
       "      <td>280.0</td>\n",
       "      <td>1.526047e+08</td>\n",
       "      <td>5874.787661</td>\n",
       "      <td>152600576.0</td>\n",
       "      <td>152600576.0</td>\n",
       "      <td>152600576.0</td>\n",
       "      <td>152612864.0</td>\n",
       "      <td>1.526211e+08</td>\n",
       "    </tr>\n",
       "  </tbody>\n",
       "</table>\n",
       "</div>"
      ],
      "text/plain": [
       "                                                   memory_usage.mean_value  \\\n",
       "                                                                     count   \n",
       "container_name                                                               \n",
       "k8s_details_details-v1-994cb687f-p5wrv_sidecar_...                   101.0   \n",
       "k8s_productpage_productpage-v1-6c575bc5f7-n9mzs...                   280.0   \n",
       "k8s_ratings_ratings-v1-7669f78ff5-8bq5g_sidecar...                    99.0   \n",
       "k8s_reviews_reviews-v1-d9c7bcb7f-vhh6s_sidecar_...                   280.0   \n",
       "k8s_reviews_reviews-v2-7848469667-w6kxk_sidecar...                   280.0   \n",
       "k8s_reviews_reviews-v3-5b4bcdbdff-2j22g_sidecar...                   280.0   \n",
       "\n",
       "                                                                  \\\n",
       "                                                            mean   \n",
       "container_name                                                     \n",
       "k8s_details_details-v1-994cb687f-p5wrv_sidecar_...  1.960755e+07   \n",
       "k8s_productpage_productpage-v1-6c575bc5f7-n9mzs...  5.944115e+07   \n",
       "k8s_ratings_ratings-v1-7669f78ff5-8bq5g_sidecar...  1.018266e+07   \n",
       "k8s_reviews_reviews-v1-d9c7bcb7f-vhh6s_sidecar_...  1.299538e+08   \n",
       "k8s_reviews_reviews-v2-7848469667-w6kxk_sidecar...  1.474249e+08   \n",
       "k8s_reviews_reviews-v3-5b4bcdbdff-2j22g_sidecar...  1.526047e+08   \n",
       "\n",
       "                                                                               \\\n",
       "                                                             std          min   \n",
       "container_name                                                                  \n",
       "k8s_details_details-v1-994cb687f-p5wrv_sidecar_...      0.000000   19607552.0   \n",
       "k8s_productpage_productpage-v1-6c575bc5f7-n9mzs...      0.000000   59441152.0   \n",
       "k8s_ratings_ratings-v1-7669f78ff5-8bq5g_sidecar...      0.000000   10182656.0   \n",
       "k8s_reviews_reviews-v1-d9c7bcb7f-vhh6s_sidecar_...      0.000000  129953792.0   \n",
       "k8s_reviews_reviews-v2-7848469667-w6kxk_sidecar...  33528.705483  147402752.0   \n",
       "k8s_reviews_reviews-v3-5b4bcdbdff-2j22g_sidecar...   5874.787661  152600576.0   \n",
       "\n",
       "                                                                              \\\n",
       "                                                            25%          50%   \n",
       "container_name                                                                 \n",
       "k8s_details_details-v1-994cb687f-p5wrv_sidecar_...   19607552.0   19607552.0   \n",
       "k8s_productpage_productpage-v1-6c575bc5f7-n9mzs...   59441152.0   59441152.0   \n",
       "k8s_ratings_ratings-v1-7669f78ff5-8bq5g_sidecar...   10182656.0   10182656.0   \n",
       "k8s_reviews_reviews-v1-d9c7bcb7f-vhh6s_sidecar_...  129953792.0  129953792.0   \n",
       "k8s_reviews_reviews-v2-7848469667-w6kxk_sidecar...  147402752.0  147431424.0   \n",
       "k8s_reviews_reviews-v3-5b4bcdbdff-2j22g_sidecar...  152600576.0  152600576.0   \n",
       "\n",
       "                                                                               \n",
       "                                                            75%           max  \n",
       "container_name                                                                 \n",
       "k8s_details_details-v1-994cb687f-p5wrv_sidecar_...   19607552.0  1.960755e+07  \n",
       "k8s_productpage_productpage-v1-6c575bc5f7-n9mzs...   59441152.0  5.944115e+07  \n",
       "k8s_ratings_ratings-v1-7669f78ff5-8bq5g_sidecar...   10182656.0  1.018266e+07  \n",
       "k8s_reviews_reviews-v1-d9c7bcb7f-vhh6s_sidecar_...  129953792.0  1.299538e+08  \n",
       "k8s_reviews_reviews-v2-7848469667-w6kxk_sidecar...  147431424.0  1.478833e+08  \n",
       "k8s_reviews_reviews-v3-5b4bcdbdff-2j22g_sidecar...  152612864.0  1.526211e+08  "
      ]
     },
     "execution_count": 144,
     "metadata": {},
     "output_type": "execute_result"
    }
   ],
   "source": [
    "select_pod_proxy_application_metrics(sidecar_memory_at_rest_between, False, False, True, False).groupby('container_name').describe()"
   ]
  },
  {
   "cell_type": "markdown",
   "id": "15b222b0",
   "metadata": {},
   "source": [
    "# Load tests"
   ]
  },
  {
   "cell_type": "code",
   "execution_count": 15,
   "id": "730e20f3",
   "metadata": {},
   "outputs": [],
   "source": [
    "import os\n",
    "import re\n",
    "def read_load_test_data(dir: str, match_pattern: str):\n",
    "    files = os.listdir(dir)\n",
    "    pattern = re.compile(match_pattern)\n",
    "    res = {}\n",
    "    for filename in files:\n",
    "        match = re.match(pattern, filename)\n",
    "        if match:\n",
    "            with open(dir + '/' + filename) as file:\n",
    "                lines = file.readlines()\n",
    "                starttime = datetime.fromtimestamp(int(lines[1].split(',')[0]))\n",
    "                stoptime = datetime.fromtimestamp(int(lines[-1].split(',')[0]))\n",
    "                res[match.group(1)] = {}\n",
    "                res[match.group(1)]['timeframe'] = (starttime, stoptime)\n",
    "\n",
    "                latency_data = {}\n",
    "                rqsps_data = {}\n",
    "                for line in lines[1:]:\n",
    "                    timestamp = datetime.fromtimestamp(int(line.split(',')[0]))\n",
    "                    reqspersec = float(line.split(',')[4])\n",
    "                    rqsps_data[timestamp] = reqspersec\n",
    "                res[match.group(1)]['rqsps'] = rqsps_data\n",
    "    return res\n",
    "\n",
    "def get_metrics_data_for_load_tests(requests_data, metrics_data):\n",
    "    metrics_data_for_load_test = {}\n",
    "    for loadtest_nr in requests_data:\n",
    "        start_time, stop_time = requests_data[loadtest_nr]['timeframe']\n",
    "        metrics_data_for_load_test[loadtest_nr] = select_time_frame(metrics_data, start_time, stop_time, False)\n",
    "\n",
    "    return metrics_data_for_load_test\n",
    "\n",
    "def get_tx_bytes_vs_rqsps(requestsdata, metricsdata):\n",
    "    result = None\n",
    "    for loadtestnr in requestsdata:\n",
    "        foo = pd.DataFrame.from_dict(requestsdata[loadtestnr]['rqsps'], orient='index').reset_index().rename(columns={'index': 'date', 0: 'rqsps'}).join(metricsdata[loadtestnr].groupby('date').sum(), on='date', how='inner')\n",
    "        if result is None:\n",
    "            result = foo\n",
    "        else:\n",
    "            result = pd.concat([result, foo])\n",
    "    result.rqsps = result.rqsps.round(-1)\n",
    "    return result[result.rqsps <= 80].groupby('rqsps').mean()\n"
   ]
  },
  {
   "cell_type": "code",
   "execution_count": 16,
   "id": "0da6bc25",
   "metadata": {},
   "outputs": [],
   "source": [
    "# without monitoring\n",
    "without_monitoring_load_test_requests_data = read_load_test_data('data/requests_data/without_monitoring', 'withoutmonitoringloadtest([1-7])_stats_history.csv')\n",
    "without_monitoring_load_test_metrics_data = get_metrics_data_for_load_tests(without_monitoring_load_test_requests_data, without_monitoring_tx_bytes)\n",
    "\n",
    "# standard monitoring\n",
    "with_prometheus_monitoring_load_test_requests_data = read_load_test_data('data/requests_data/standard_prometheus', 'standardprometheusloadtest([1-7])_stats_history.csv')\n",
    "with_prometheus_monitoring_load_test_metrics_data = get_metrics_data_for_load_tests(with_prometheus_monitoring_load_test_requests_data, with_prometheus_monitoring_tx_bytes)\n",
    "\n",
    "# sidecar\n",
    "sidecar_load_test_requests_data = read_load_test_data('data/requests_data/sidecar', 'sidecarloadtest([1-7])_stats_history.csv')\n",
    "sidecar_load_test_metrics_data = get_metrics_data_for_load_tests(sidecar_load_test_requests_data, sidecar_tx_bytes)\n",
    "\n",
    "# federated\n",
    "federated_load_test_requests_data = read_load_test_data('data/requests_data/federated', 'federatedloadtest([1-7])_stats_history.csv')\n",
    "federated_load_test_metrics_data = get_metrics_data_for_load_tests(federated_load_test_requests_data, federated_tx_bytes)\n"
   ]
  },
  {
   "cell_type": "code",
   "execution_count": 17,
   "id": "cad3fe66",
   "metadata": {},
   "outputs": [
    {
     "data": {
      "text/plain": [
       "array(['k8s_POD_details-v1-6b57d5cfc5-vkprm_federated_c0d05e9b-acfd-4f23-b908-b115913872bd_0',\n",
       "       'k8s_POD_productpage-v1-55ccf4df89-fjx8z_federated_db579448-ffee-4881-9438-8e595993154e_0',\n",
       "       'k8s_POD_ratings-v1-7dd4d9574-8qgzx_federated_87a036c2-ed1c-42c7-97f4-15dbe5677858_0',\n",
       "       'k8s_POD_reviews-v2-698c5d7d5d-2hlfb_federated_d3a21cf9-a85f-46ef-915a-b2d342c25c69_0',\n",
       "       'k8s_POD_reviews-v3-57754b8cd8-rzr7g_federated_598eaf70-1fd0-4f2a-8c0b-012a421beda1_0',\n",
       "       'k8s_POD_reviews-v1-c95c59f68-wbn6z_federated_8936629c-d6ef-427e-88f2-cf880b38c0df_0'],\n",
       "      dtype=object)"
      ]
     },
     "execution_count": 17,
     "metadata": {},
     "output_type": "execute_result"
    }
   ],
   "source": [
    "federated_load_test_metrics_data['1'].container_name.unique()"
   ]
  },
  {
   "cell_type": "code",
   "execution_count": 18,
   "id": "e29ce42b",
   "metadata": {},
   "outputs": [
    {
     "data": {
      "text/plain": [
       "<AxesSubplot:xlabel='rqsps'>"
      ]
     },
     "execution_count": 18,
     "metadata": {},
     "output_type": "execute_result"
    },
    {
     "data": {
      "image/png": "[encoded data removed]",
      "text/plain": [
       "<Figure size 432x288 with 1 Axes>"
      ]
     },
     "metadata": {
      "needs_background": "light"
     },
     "output_type": "display_data"
    },
    {
     "data": {
      "image/png": "[encoded data removed]",
      "text/plain": [
       "<Figure size 432x288 with 1 Axes>"
      ]
     },
     "metadata": {
      "needs_background": "light"
     },
     "output_type": "display_data"
    },
    {
     "data": {
      "image/png": "[encoded data removed]",
      "text/plain": [
       "<Figure size 432x288 with 1 Axes>"
      ]
     },
     "metadata": {
      "needs_background": "light"
     },
     "output_type": "display_data"
    },
    {
     "data": {
      "image/png": "[encoded data removed]",
      "text/plain": [
       "<Figure size 432x288 with 1 Axes>"
      ]
     },
     "metadata": {
      "needs_background": "light"
     },
     "output_type": "display_data"
    }
   ],
   "source": [
    "without_monitoring_load_test_data = get_tx_bytes_vs_rqsps(without_monitoring_load_test_requests_data, without_monitoring_load_test_metrics_data)\n",
    "with_prometheus_monitoring_load_test_data = get_tx_bytes_vs_rqsps(with_prometheus_monitoring_load_test_requests_data, with_prometheus_monitoring_load_test_metrics_data)\n",
    "sidecar_load_test_data = get_tx_bytes_vs_rqsps(sidecar_load_test_requests_data, sidecar_load_test_metrics_data)\n",
    "federated_load_test_data = get_tx_bytes_vs_rqsps(federated_load_test_requests_data, federated_load_test_metrics_data)\n",
    "\n",
    "without_monitoring_load_test_data.plot()\n",
    "with_prometheus_monitoring_load_test_data.plot()\n",
    "sidecar_load_test_data.plot()\n",
    "federated_load_test_data.plot()"
   ]
  },
  {
   "cell_type": "code",
   "execution_count": 221,
   "id": "782e717a",
   "metadata": {},
   "outputs": [
    {
     "name": "stdout",
     "output_type": "stream",
     "text": [
      "(82.1, 2.335594142825331, 86.1)\n",
      "(81.05999999999999, 0.2073644135332764, 81.3)\n",
      "(81.32000000000001, 0.1788854381999845, 81.5)\n",
      "(81.0, 0.6429100507328617, 82.3)\n"
     ]
    }
   ],
   "source": [
    "def mean_max_reqsps(requests_data_dict):\n",
    "    maxes = []\n",
    "    for foo in requests_data_dict:\n",
    "        maxes.append(pd.DataFrame.from_dict(requests_data_dict[foo]['rqsps'], orient='index')[0].max())\n",
    "    bar = pd.DataFrame(maxes)\n",
    "    return bar[0].mean(), bar[0].std(), bar[0].max()\n",
    "\n",
    "\n",
    "print(mean_max_reqsps(without_monitoring_load_test_requests_data))\n",
    "print(mean_max_reqsps(with_prometheus_monitoring_load_test_requests_data))\n",
    "print(mean_max_reqsps(sidecar_load_test_requests_data))\n",
    "print(mean_max_reqsps(federated_load_test_requests_data))\n",
    "\n"
   ]
  },
  {
   "cell_type": "code",
   "execution_count": 227,
   "id": "d37ec752",
   "metadata": {},
   "outputs": [],
   "source": [
    "load_test = pd.DataFrame.from_dict({'Without monitoring': \\\n",
    "    [mean_max_reqsps(without_monitoring_load_test_requests_data)[0],\n",
    "     mean_max_reqsps(without_monitoring_load_test_requests_data)[1],\n",
    "     mean_max_reqsps(without_monitoring_load_test_requests_data)[2]],\n",
    "    'Prometheus': [\n",
    "        mean_max_reqsps(with_prometheus_monitoring_load_test_requests_data)[0],\n",
    "        mean_max_reqsps(with_prometheus_monitoring_load_test_requests_data)[1],\n",
    "        mean_max_reqsps(with_prometheus_monitoring_load_test_requests_data)[2]\n",
    "    ],\n",
    "    'Sidecar architecture': [mean_max_reqsps(sidecar_load_test_requests_data)[0], mean_max_reqsps(sidecar_load_test_requests_data)[1], mean_max_reqsps(sidecar_load_test_requests_data)[2]],\n",
    "    'Federated architecture': [mean_max_reqsps(federated_load_test_requests_data)[0], mean_max_reqsps(federated_load_test_requests_data)[1],mean_max_reqsps(federated_load_test_requests_data)[2]]\n",
    "    }, columns=['mean', 'std', 'max'], orient='index')\n",
    "\n",
    "\n"
   ]
  },
  {
   "cell_type": "code",
   "execution_count": 244,
   "id": "fc5a7b8d",
   "metadata": {},
   "outputs": [
    {
     "data": {
      "image/png": "[encoded data removed]",
      "text/plain": [
       "<Figure size 648x576 with 1 Axes>"
      ]
     },
     "metadata": {
      "needs_background": "light"
     },
     "output_type": "display_data"
    }
   ],
   "source": [
    "def barplot_2(df, mean_str, std_str, ylabel, spacing):   \n",
    "    fig, ax = plt.subplots(figsize=(9,8))\n",
    "    ax.bar(df.index, mean_str, yerr=std_str, alpha=0.5, data=df, capsize=10)\n",
    "    for index, row in pd.DataFrame(df[mean_str]).iterrows():\n",
    "        ax.text(index, row[mean_str] + spacing, round(row[mean_str]))\n",
    "        \n",
    "    for index, row in pd.DataFrame(df['max']).iterrows():\n",
    "        ax.plot(index, row['max'], marker='x', color='r')\n",
    "    plt.ylabel(ylabel)\n",
    "\n",
    "barplot_2(load_test, 'mean', 'std', 'Requests per second', -5)\n"
   ]
  },
  {
   "cell_type": "code",
   "execution_count": 20,
   "id": "c9933110",
   "metadata": {},
   "outputs": [
    {
     "name": "stdout",
     "output_type": "stream",
     "text": [
      "dict_keys(['5', '4', '1', '2', '3'])\n",
      "dict_keys(['3', '2', '1', '4', '5'])\n",
      "dict_keys(['2', '3', '5', '1', '4'])\n",
      "dict_keys(['2', '7', '3', '6', '5', '1', '4'])\n"
     ]
    }
   ],
   "source": [
    "print((without_monitoring_load_test_requests_data.keys()))\n",
    "print((with_prometheus_monitoring_load_test_requests_data.keys()))\n",
    "print((sidecar_load_test_requests_data.keys()))\n",
    "print((federated_load_test_requests_data.keys()))"
   ]
  },
  {
   "cell_type": "code",
   "execution_count": 177,
   "id": "d2776a54",
   "metadata": {},
   "outputs": [],
   "source": [
    "at_rest_start = datetime(2022, 5, 19, 17, 25, 5)\n",
    "at_rest_stop = datetime(2022, 5, 19, 17, 26, 5)\n",
    "with_prometheus_monitoring_tx_bytes_at_rest_spiky = select_time_frame(with_prometheus_monitoring_tx_bytes, at_rest_start, at_rest_stop, False)\n"
   ]
  },
  {
   "cell_type": "code",
   "execution_count": 188,
   "id": "dc3b2887",
   "metadata": {},
   "outputs": [
    {
     "data": {
      "text/plain": [
       "Text(0.5, 0, 'Time')"
      ]
     },
     "execution_count": 188,
     "metadata": {},
     "output_type": "execute_result"
    },
    {
     "data": {
      "image/png": "[encoded data removed]",
      "text/plain": [
       "<Figure size 648x216 with 1 Axes>"
      ]
     },
     "metadata": {
      "needs_background": "light"
     },
     "output_type": "display_data"
    }
   ],
   "source": [
    "with_prometheus_monitoring_tx_bytes_at_rest_spiky[with_prometheus_monitoring_tx_bytes_at_rest_spiky.container_name=='k8s_POD_details-v1-994cb687f-czdps_without-monitoring_15375d17-456f-451c-8834-b79c1f153319_0'].plot('date', 'tx_bytes.mean_value', legend=False, figsize=(9,3), alpha=0.7)\n",
    "plt.ylabel('Bytes per second')\n",
    "plt.xlabel('Time')"
   ]
  },
  {
   "cell_type": "code",
   "execution_count": 150,
   "id": "51c078fc",
   "metadata": {},
   "outputs": [
    {
     "data": {
      "text/html": [
       "<div>\n",
       "<style scoped>\n",
       "    .dataframe tbody tr th:only-of-type {\n",
       "        vertical-align: middle;\n",
       "    }\n",
       "\n",
       "    .dataframe tbody tr th {\n",
       "        vertical-align: top;\n",
       "    }\n",
       "\n",
       "    .dataframe thead th {\n",
       "        text-align: right;\n",
       "    }\n",
       "</style>\n",
       "<table border=\"1\" class=\"dataframe\">\n",
       "  <thead>\n",
       "    <tr style=\"text-align: right;\">\n",
       "      <th></th>\n",
       "      <th>date</th>\n",
       "      <th>container_name</th>\n",
       "      <th>tx_bytes.mean_value</th>\n",
       "    </tr>\n",
       "  </thead>\n",
       "  <tbody>\n",
       "    <tr>\n",
       "      <th>0</th>\n",
       "      <td>2022-05-19 15:50:00</td>\n",
       "      <td>k8s_POD_productpage-v1-6c575bc5f7-2jgpl_withou...</td>\n",
       "      <td>415.0</td>\n",
       "    </tr>\n",
       "    <tr>\n",
       "      <th>1</th>\n",
       "      <td>2022-05-19 15:50:01</td>\n",
       "      <td>k8s_POD_reviews-v1-d9c7bcb7f-5h958_without-mon...</td>\n",
       "      <td>415.0</td>\n",
       "    </tr>\n",
       "    <tr>\n",
       "      <th>2</th>\n",
       "      <td>2022-05-19 15:50:02</td>\n",
       "      <td>k8s_POD_details-v1-994cb687f-czdps_without-mon...</td>\n",
       "      <td>481.0</td>\n",
       "    </tr>\n",
       "    <tr>\n",
       "      <th>3</th>\n",
       "      <td>2022-05-19 15:50:02</td>\n",
       "      <td>k8s_POD_productpage-v1-6c575bc5f7-2jgpl_withou...</td>\n",
       "      <td>0.0</td>\n",
       "    </tr>\n",
       "    <tr>\n",
       "      <th>4</th>\n",
       "      <td>2022-05-19 15:50:02</td>\n",
       "      <td>k8s_POD_reviews-v1-d9c7bcb7f-5h958_without-mon...</td>\n",
       "      <td>66.0</td>\n",
       "    </tr>\n",
       "    <tr>\n",
       "      <th>...</th>\n",
       "      <td>...</td>\n",
       "      <td>...</td>\n",
       "      <td>...</td>\n",
       "    </tr>\n",
       "    <tr>\n",
       "      <th>54104</th>\n",
       "      <td>2022-05-19 20:19:58</td>\n",
       "      <td>k8s_POD_reviews-v3-5b4bcdbdff-47qch_without-mo...</td>\n",
       "      <td>94616.5</td>\n",
       "    </tr>\n",
       "    <tr>\n",
       "      <th>54105</th>\n",
       "      <td>2022-05-19 20:19:59</td>\n",
       "      <td>k8s_POD_details-v1-994cb687f-czdps_without-mon...</td>\n",
       "      <td>48274.5</td>\n",
       "    </tr>\n",
       "    <tr>\n",
       "      <th>54106</th>\n",
       "      <td>2022-05-19 20:19:59</td>\n",
       "      <td>k8s_POD_productpage-v1-6c575bc5f7-2jgpl_withou...</td>\n",
       "      <td>565429.0</td>\n",
       "    </tr>\n",
       "    <tr>\n",
       "      <th>54107</th>\n",
       "      <td>2022-05-19 20:19:59</td>\n",
       "      <td>k8s_POD_reviews-v1-d9c7bcb7f-5h958_without-mon...</td>\n",
       "      <td>125849.0</td>\n",
       "    </tr>\n",
       "    <tr>\n",
       "      <th>54108</th>\n",
       "      <td>2022-05-19 20:19:59</td>\n",
       "      <td>k8s_POD_reviews-v2-7848469667-fcspz_without-mo...</td>\n",
       "      <td>0.0</td>\n",
       "    </tr>\n",
       "  </tbody>\n",
       "</table>\n",
       "<p>54109 rows × 3 columns</p>\n",
       "</div>"
      ],
      "text/plain": [
       "                     date                                     container_name  \\\n",
       "0     2022-05-19 15:50:00  k8s_POD_productpage-v1-6c575bc5f7-2jgpl_withou...   \n",
       "1     2022-05-19 15:50:01  k8s_POD_reviews-v1-d9c7bcb7f-5h958_without-mon...   \n",
       "2     2022-05-19 15:50:02  k8s_POD_details-v1-994cb687f-czdps_without-mon...   \n",
       "3     2022-05-19 15:50:02  k8s_POD_productpage-v1-6c575bc5f7-2jgpl_withou...   \n",
       "4     2022-05-19 15:50:02  k8s_POD_reviews-v1-d9c7bcb7f-5h958_without-mon...   \n",
       "...                   ...                                                ...   \n",
       "54104 2022-05-19 20:19:58  k8s_POD_reviews-v3-5b4bcdbdff-47qch_without-mo...   \n",
       "54105 2022-05-19 20:19:59  k8s_POD_details-v1-994cb687f-czdps_without-mon...   \n",
       "54106 2022-05-19 20:19:59  k8s_POD_productpage-v1-6c575bc5f7-2jgpl_withou...   \n",
       "54107 2022-05-19 20:19:59  k8s_POD_reviews-v1-d9c7bcb7f-5h958_without-mon...   \n",
       "54108 2022-05-19 20:19:59  k8s_POD_reviews-v2-7848469667-fcspz_without-mo...   \n",
       "\n",
       "       tx_bytes.mean_value  \n",
       "0                    415.0  \n",
       "1                    415.0  \n",
       "2                    481.0  \n",
       "3                      0.0  \n",
       "4                     66.0  \n",
       "...                    ...  \n",
       "54104              94616.5  \n",
       "54105              48274.5  \n",
       "54106             565429.0  \n",
       "54107             125849.0  \n",
       "54108                  0.0  \n",
       "\n",
       "[54109 rows x 3 columns]"
      ]
     },
     "execution_count": 150,
     "metadata": {},
     "output_type": "execute_result"
    }
   ],
   "source": [
    "with_prometheus_monitoring_tx_bytes"
   ]
  },
  {
   "cell_type": "code",
   "execution_count": null,
   "metadata": {},
   "outputs": [],
   "source": []
  }
 ],
 "metadata": {
  "interpreter": {
   "hash": "0adcc2737ebf6a4a119f135174df96668767fca1ef1112612db5ecadf2b6d608"
  },
  "kernelspec": {
   "display_name": "Python 3.8.7 64-bit",
   "language": "python",
   "name": "python3"
  },
  "language_info": {
   "codemirror_mode": {
    "name": "ipython",
    "version": 3
   },
   "file_extension": ".py",
   "mimetype": "text/x-python",
   "name": "python",
   "nbconvert_exporter": "python",
   "pygments_lexer": "ipython3",
   "version": "3.8.7"
  }
 },
 "nbformat": 4,
 "nbformat_minor": 5
}
